{
 "cells": [
  {
   "cell_type": "code",
   "execution_count": 16,
   "metadata": {
    "collapsed": true
   },
   "outputs": [],
   "source": [
    "# dependencies \n",
    "import numpy as np\n",
    "import pandas as pd\n",
    "from nltk.tokenize import word_tokenize\n",
    "from nltk.corpus import stopwords\n",
    "from nltk.corpus import words\n",
    "import pickle as pkl\n",
    "\n",
    "# read in .csv\n",
    "# needs exception for non-existant file\n",
    "def read_file(filename, texts, labels, encoding = \"utf-8\"):\n",
    "    path = \"../data/\"\n",
    "    data = pd.read_csv(path+filename, encoding = encoding)\n",
    "    docs = data[texts]\n",
    "    labels = data[labels]\n",
    "    return docs, labels\n",
    "\n",
    "def dump_pickle(obj, pickle_name):\n",
    "    path = \"../pickles/\"\n",
    "    pkl.dump(obj, open(path+pickle_name, \"wb\"))\n",
    "    \n",
    "# import pickles\n",
    "def read_pickle(pickle_name):\n",
    "    path = \"../pickles/\"\n",
    "    return pkl.load(open(path+pickle_name, \"rb\"))\n",
    "\n",
    "# converts to lowercase, removes punctuation, tokenize\n",
    "def pre_clean(texts):\n",
    "    texts = [doc.lower() for doc in texts]\n",
    "    tokens = [word_tokenize(doc) for doc in texts]\n",
    "    return tokens\n",
    "\n",
    "# filters out numbers\n",
    "# text parameter is tokenized docs\n",
    "def number_filter(texts, custom_dict = []):\n",
    "    filter_set = set(custom_dict)\n",
    "    filtered_docs = []\n",
    "    for doc in texts:\n",
    "        filtered_doc = []\n",
    "        for word in doc:\n",
    "            if word in filter_set or word.isalpha():\n",
    "                filtered_doc.append(word)\n",
    "        filtered_docs.append(filtered_doc)\n",
    "    return filtered_docs\n",
    "\n",
    "def drop_filter(texts, stop_words = list(stopwords.words('english')), custom_sw = []):\n",
    "    stop_words = set(stop_words).union(set(custom_sw))\n",
    "    filtered_docs = []\n",
    "    for doc in texts:\n",
    "        filtered_doc = []\n",
    "        for word in doc:\n",
    "            if not word in stop_words:\n",
    "                filtered_doc.append(word)\n",
    "        filtered_docs.append(filtered_doc)\n",
    "    return filtered_docs\n",
    "\n",
    "def keep_filter(texts, std_words = list(words.words()), custom_words = [], std_sw = list(stopwords.words('english')), custom_sw = []):\n",
    "    words = set(std_words).union(set(custom_words))\n",
    "    stop_words = set(std_sw).union(set(custom_sw))\n",
    "    for doc in texts:\n",
    "        filtered_doc = []\n",
    "        for word in doc:\n",
    "            if word in words and not word in stop_words:\n",
    "                filtered_doc.append(word)\n",
    "        filtered_docs.append(filtered_doc)\n",
    "    return filtered_docs\n",
    "\n",
    "    "
   ]
  },
  {
   "cell_type": "code",
   "execution_count": 17,
   "metadata": {
    "collapsed": true
   },
   "outputs": [],
   "source": [
    "def create_df(texts, labels):\n",
    "    columns = [\"texts\", \"labels\"]\n",
    "    index = range(len(texts))\n",
    "    df = pd.DataFrame(columns = columns, index = index)\n",
    "    df[\"texts\"] = texts\n",
    "    df[\"labels\"] = labels\n",
    "    dump_pickle(df, 'cleaned_data.pkl')"
   ]
  },
  {
   "cell_type": "code",
   "execution_count": 18,
   "metadata": {},
   "outputs": [],
   "source": [
    "if __name__ == \"__main__\":\n",
    "    filename = \"labeled_data.csv\"#input(\"enter .csv filepath: \")\n",
    "    texts = \"original_post\"#input(\"enter text field name: \")\n",
    "    label = \"5CAT\"#input(\"enter label field name: \")\n",
    "    texts, labels = read_file(filename, texts, label)\n",
    "    \n",
    "    # missing logic for handling drop_set vs keep_set\n",
    "    filtered_texts = pre_clean(texts)\n",
    "    filtered_texts = number_filter(filtered_texts)\n",
    "    filtered_texts = drop_filter(filtered_texts)\n",
    "    \n",
    "    create_df(filtered_texts,labels)"
   ]
  },
  {
   "cell_type": "code",
   "execution_count": null,
   "metadata": {
    "collapsed": true
   },
   "outputs": [],
   "source": []
  },
  {
   "cell_type": "code",
   "execution_count": null,
   "metadata": {
    "collapsed": true
   },
   "outputs": [],
   "source": []
  }
 ],
 "metadata": {
  "kernelspec": {
   "display_name": "Python 2",
   "language": "python",
   "name": "python2"
  },
  "language_info": {
   "codemirror_mode": {
    "name": "ipython",
    "version": 2
   },
   "file_extension": ".py",
   "mimetype": "text/x-python",
   "name": "python",
   "nbconvert_exporter": "python",
   "pygments_lexer": "ipython2",
   "version": "2.7.13"
  }
 },
 "nbformat": 4,
 "nbformat_minor": 2
}
